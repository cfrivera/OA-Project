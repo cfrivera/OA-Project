{
 "cells": [
  {
   "cell_type": "code",
   "execution_count": 349,
   "id": "e00223e5",
   "metadata": {},
   "outputs": [],
   "source": [
    "# Useful imports\n",
    "import pandas as pd\n",
    "import numpy as np"
   ]
  },
  {
   "cell_type": "code",
   "execution_count": 5,
   "id": "6b08d22f",
   "metadata": {},
   "outputs": [
    {
     "data": {
      "text/html": [
       "<div>\n",
       "<style scoped>\n",
       "    .dataframe tbody tr th:only-of-type {\n",
       "        vertical-align: middle;\n",
       "    }\n",
       "\n",
       "    .dataframe tbody tr th {\n",
       "        vertical-align: top;\n",
       "    }\n",
       "\n",
       "    .dataframe thead th {\n",
       "        text-align: right;\n",
       "    }\n",
       "</style>\n",
       "<table border=\"1\" class=\"dataframe\">\n",
       "  <thead>\n",
       "    <tr style=\"text-align: right;\">\n",
       "      <th></th>\n",
       "      <th>tweet_id</th>\n",
       "      <th>author_id</th>\n",
       "      <th>inbound</th>\n",
       "      <th>created_at</th>\n",
       "      <th>text</th>\n",
       "      <th>response_tweet_id</th>\n",
       "      <th>in_response_to_tweet_id</th>\n",
       "    </tr>\n",
       "  </thead>\n",
       "  <tbody>\n",
       "    <tr>\n",
       "      <th>0</th>\n",
       "      <td>1</td>\n",
       "      <td>sprintcare</td>\n",
       "      <td>False</td>\n",
       "      <td>Tue Oct 31 22:10:47 +0000 2017</td>\n",
       "      <td>@115712 I understand. I would like to assist y...</td>\n",
       "      <td>2</td>\n",
       "      <td>3.0</td>\n",
       "    </tr>\n",
       "    <tr>\n",
       "      <th>1</th>\n",
       "      <td>2</td>\n",
       "      <td>115712</td>\n",
       "      <td>True</td>\n",
       "      <td>Tue Oct 31 22:11:45 +0000 2017</td>\n",
       "      <td>@sprintcare and how do you propose we do that</td>\n",
       "      <td>NaN</td>\n",
       "      <td>1.0</td>\n",
       "    </tr>\n",
       "    <tr>\n",
       "      <th>2</th>\n",
       "      <td>3</td>\n",
       "      <td>115712</td>\n",
       "      <td>True</td>\n",
       "      <td>Tue Oct 31 22:08:27 +0000 2017</td>\n",
       "      <td>@sprintcare I have sent several private messag...</td>\n",
       "      <td>1</td>\n",
       "      <td>4.0</td>\n",
       "    </tr>\n",
       "    <tr>\n",
       "      <th>3</th>\n",
       "      <td>4</td>\n",
       "      <td>sprintcare</td>\n",
       "      <td>False</td>\n",
       "      <td>Tue Oct 31 21:54:49 +0000 2017</td>\n",
       "      <td>@115712 Please send us a Private Message so th...</td>\n",
       "      <td>3</td>\n",
       "      <td>5.0</td>\n",
       "    </tr>\n",
       "    <tr>\n",
       "      <th>4</th>\n",
       "      <td>5</td>\n",
       "      <td>115712</td>\n",
       "      <td>True</td>\n",
       "      <td>Tue Oct 31 21:49:35 +0000 2017</td>\n",
       "      <td>@sprintcare I did.</td>\n",
       "      <td>4</td>\n",
       "      <td>6.0</td>\n",
       "    </tr>\n",
       "  </tbody>\n",
       "</table>\n",
       "</div>"
      ],
      "text/plain": [
       "   tweet_id   author_id  inbound                      created_at  \\\n",
       "0         1  sprintcare    False  Tue Oct 31 22:10:47 +0000 2017   \n",
       "1         2      115712     True  Tue Oct 31 22:11:45 +0000 2017   \n",
       "2         3      115712     True  Tue Oct 31 22:08:27 +0000 2017   \n",
       "3         4  sprintcare    False  Tue Oct 31 21:54:49 +0000 2017   \n",
       "4         5      115712     True  Tue Oct 31 21:49:35 +0000 2017   \n",
       "\n",
       "                                                text response_tweet_id  \\\n",
       "0  @115712 I understand. I would like to assist y...                 2   \n",
       "1      @sprintcare and how do you propose we do that               NaN   \n",
       "2  @sprintcare I have sent several private messag...                 1   \n",
       "3  @115712 Please send us a Private Message so th...                 3   \n",
       "4                                 @sprintcare I did.                 4   \n",
       "\n",
       "   in_response_to_tweet_id  \n",
       "0                      3.0  \n",
       "1                      1.0  \n",
       "2                      4.0  \n",
       "3                      5.0  \n",
       "4                      6.0  "
      ]
     },
     "execution_count": 5,
     "metadata": {},
     "output_type": "execute_result"
    }
   ],
   "source": [
    "# Load the dataset into notebook\n",
    "dataset = pd.read_csv(\"twcs.csv\")\n",
    "dataset.head()"
   ]
  },
  {
   "cell_type": "code",
   "execution_count": 15,
   "id": "e5d7a38d",
   "metadata": {},
   "outputs": [
    {
     "data": {
      "text/plain": [
       "(2811774, 7)"
      ]
     },
     "execution_count": 15,
     "metadata": {},
     "output_type": "execute_result"
    }
   ],
   "source": [
    "# Shape of DataFrame\n",
    "dataset.shape"
   ]
  },
  {
   "cell_type": "code",
   "execution_count": 16,
   "id": "c276bf6b",
   "metadata": {},
   "outputs": [
    {
     "data": {
      "text/plain": [
       "True     1537843\n",
       "False    1273931\n",
       "Name: inbound, dtype: int64"
      ]
     },
     "execution_count": 16,
     "metadata": {},
     "output_type": "execute_result"
    }
   ],
   "source": [
    "# Number of inbound and outbound tweets\n",
    "dataset['inbound'].value_counts()"
   ]
  },
  {
   "cell_type": "code",
   "execution_count": 17,
   "id": "d00eed6f",
   "metadata": {},
   "outputs": [
    {
     "name": "stdout",
     "output_type": "stream",
     "text": [
      "<class 'pandas.core.frame.DataFrame'>\n",
      "RangeIndex: 2811774 entries, 0 to 2811773\n",
      "Data columns (total 7 columns):\n",
      " #   Column                   Dtype  \n",
      "---  ------                   -----  \n",
      " 0   tweet_id                 int64  \n",
      " 1   author_id                object \n",
      " 2   inbound                  bool   \n",
      " 3   created_at               object \n",
      " 4   text                     object \n",
      " 5   response_tweet_id        object \n",
      " 6   in_response_to_tweet_id  float64\n",
      "dtypes: bool(1), float64(1), int64(1), object(4)\n",
      "memory usage: 131.4+ MB\n"
     ]
    }
   ],
   "source": [
    "# Value type of each variable/column\n",
    "dataset.info()"
   ]
  },
  {
   "cell_type": "code",
   "execution_count": 18,
   "id": "1e5704d7",
   "metadata": {},
   "outputs": [
    {
     "data": {
      "text/plain": [
       "tweet_id                         0\n",
       "author_id                        0\n",
       "inbound                          0\n",
       "created_at                       0\n",
       "text                             0\n",
       "response_tweet_id          1040629\n",
       "in_response_to_tweet_id     794335\n",
       "dtype: int64"
      ]
     },
     "execution_count": 18,
     "metadata": {},
     "output_type": "execute_result"
    }
   ],
   "source": [
    "# Amount of empty values in each column\n",
    "dataset.isnull().sum()"
   ]
  },
  {
   "cell_type": "code",
   "execution_count": 604,
   "id": "4b0873e1",
   "metadata": {},
   "outputs": [
    {
     "name": "stdout",
     "output_type": "stream",
     "text": [
      "2300\n"
     ]
    }
   ],
   "source": [
    "# Sum of data points from 2008-2016\n",
    "eight = dataset['created_at'].str.contains(r'2008').sum()\n",
    "nine = dataset['created_at'].str.contains(r'2009').sum()\n",
    "ten = dataset['created_at'].str.contains(r'2010').sum()\n",
    "eleven = dataset['created_at'].str.contains(r'2011').sum()\n",
    "twelve = dataset['created_at'].str.contains(r'2012').sum()\n",
    "thirteen = dataset['created_at'].str.contains(r'2013').sum()\n",
    "fourteen = dataset['created_at'].str.contains(r'2014').sum()\n",
    "fifteen = dataset['created_at'].str.contains(r'2015').sum()\n",
    "sixteen = dataset['created_at'].str.contains(r'2016').sum()\n",
    "seventeen = dataset['created_at'].str.contains(r'2017').sum()\n",
    "\n",
    "not17 = eight+nine+ten+eleven+twelve+thirteen+fourteen+fifteen+sixteen\n",
    "print(before2017)"
   ]
  },
  {
   "cell_type": "code",
   "execution_count": 164,
   "id": "997408d9",
   "metadata": {},
   "outputs": [],
   "source": [
    "# Drop everything before 2017, as they are outliers\n",
    "df = dataset[~(dataset['created_at'] < '2017-01-02')]\n",
    "# if i want to make df in order after droping values,\n",
    "# i need to convert it to a datetime val then organize, then back to obj\n"
   ]
  },
  {
   "cell_type": "code",
   "execution_count": 607,
   "id": "a8112dc1",
   "metadata": {},
   "outputs": [
    {
     "ename": "SyntaxError",
     "evalue": "invalid syntax (1028652510.py, line 3)",
     "output_type": "error",
     "traceback": [
      "\u001b[0;36m  Input \u001b[0;32mIn [607]\u001b[0;36m\u001b[0m\n\u001b[0;31m    yearly = pd.DataFrame({'Year': ['Before 2017','2017'], 'Count':[not17, seventeen],index = ['Year','Count']})\u001b[0m\n\u001b[0m                                                                                            ^\u001b[0m\n\u001b[0;31mSyntaxError\u001b[0m\u001b[0;31m:\u001b[0m invalid syntax\n"
     ]
    }
   ],
   "source": [
    "# ENTER PIE CHART HERE\n",
    "\n",
    "yearly = pd.DataFrame({'Year': ['Before 2017','2017'], 'Count':[not17, seventeen],index = ['Year','Count']})\n",
    "yearly.plot.pie(subplots=True,figsize=(11, 5))"
   ]
  },
  {
   "cell_type": "code",
   "execution_count": 581,
   "id": "c3d36fcf",
   "metadata": {},
   "outputs": [
    {
     "data": {
      "text/plain": [
       "625011.0     844\n",
       "776192.0     560\n",
       "37012.0      297\n",
       "5965.0       185\n",
       "87814.0      174\n",
       "            ... \n",
       "1058186.0      1\n",
       "1058185.0      1\n",
       "1058183.0      1\n",
       "1058181.0      1\n",
       "2987950.0      1\n",
       "Name: in_response_to_tweet_id, Length: 1774822, dtype: int64"
      ]
     },
     "execution_count": 581,
     "metadata": {},
     "output_type": "execute_result"
    }
   ],
   "source": [
    "# Top authors by response\n",
    "df['in_response_to_tweet_id'].value_counts()"
   ]
  },
  {
   "cell_type": "code",
   "execution_count": 143,
   "id": "4713d34f",
   "metadata": {
    "scrolled": true
   },
   "outputs": [
    {
     "data": {
      "text/plain": [
       "AmazonHelp      169840\n",
       "AppleSupport    106860\n",
       "Uber_Support     56270\n",
       "SpotifyCares     43265\n",
       "Delta            42253\n",
       "                 ...  \n",
       "746201               1\n",
       "745624               1\n",
       "552214               1\n",
       "745567               1\n",
       "263067               1\n",
       "Name: author_id, Length: 702777, dtype: int64"
      ]
     },
     "execution_count": 143,
     "metadata": {},
     "output_type": "execute_result"
    }
   ],
   "source": [
    "# Top twitter users by number of tweets\n",
    "tu = df['author_id'].value_counts()\n",
    "tu"
   ]
  },
  {
   "cell_type": "code",
   "execution_count": 167,
   "id": "c61eff12",
   "metadata": {},
   "outputs": [
    {
     "data": {
      "text/html": [
       "<div>\n",
       "<style scoped>\n",
       "    .dataframe tbody tr th:only-of-type {\n",
       "        vertical-align: middle;\n",
       "    }\n",
       "\n",
       "    .dataframe tbody tr th {\n",
       "        vertical-align: top;\n",
       "    }\n",
       "\n",
       "    .dataframe thead th {\n",
       "        text-align: right;\n",
       "    }\n",
       "</style>\n",
       "<table border=\"1\" class=\"dataframe\">\n",
       "  <thead>\n",
       "    <tr style=\"text-align: right;\">\n",
       "      <th></th>\n",
       "      <th>author_id</th>\n",
       "      <th>created_at</th>\n",
       "    </tr>\n",
       "  </thead>\n",
       "  <tbody>\n",
       "    <tr>\n",
       "      <th>0</th>\n",
       "      <td>sprintcare</td>\n",
       "      <td>Tue Oct 31 22:10:47 +0000 2017</td>\n",
       "    </tr>\n",
       "    <tr>\n",
       "      <th>1</th>\n",
       "      <td>115712</td>\n",
       "      <td>Tue Oct 31 22:11:45 +0000 2017</td>\n",
       "    </tr>\n",
       "    <tr>\n",
       "      <th>2</th>\n",
       "      <td>115712</td>\n",
       "      <td>Tue Oct 31 22:08:27 +0000 2017</td>\n",
       "    </tr>\n",
       "    <tr>\n",
       "      <th>3</th>\n",
       "      <td>sprintcare</td>\n",
       "      <td>Tue Oct 31 21:54:49 +0000 2017</td>\n",
       "    </tr>\n",
       "    <tr>\n",
       "      <th>4</th>\n",
       "      <td>115712</td>\n",
       "      <td>Tue Oct 31 21:49:35 +0000 2017</td>\n",
       "    </tr>\n",
       "    <tr>\n",
       "      <th>...</th>\n",
       "      <td>...</td>\n",
       "      <td>...</td>\n",
       "    </tr>\n",
       "    <tr>\n",
       "      <th>2811769</th>\n",
       "      <td>sprintcare</td>\n",
       "      <td>Wed Nov 22 08:43:51 +0000 2017</td>\n",
       "    </tr>\n",
       "    <tr>\n",
       "      <th>2811770</th>\n",
       "      <td>823869</td>\n",
       "      <td>Wed Nov 22 08:35:16 +0000 2017</td>\n",
       "    </tr>\n",
       "    <tr>\n",
       "      <th>2811771</th>\n",
       "      <td>121673</td>\n",
       "      <td>Thu Nov 23 04:13:07 +0000 2017</td>\n",
       "    </tr>\n",
       "    <tr>\n",
       "      <th>2811772</th>\n",
       "      <td>AldiUK</td>\n",
       "      <td>Wed Nov 22 08:31:24 +0000 2017</td>\n",
       "    </tr>\n",
       "    <tr>\n",
       "      <th>2811773</th>\n",
       "      <td>823870</td>\n",
       "      <td>Tue Nov 21 22:01:04 +0000 2017</td>\n",
       "    </tr>\n",
       "  </tbody>\n",
       "</table>\n",
       "<p>2811774 rows × 2 columns</p>\n",
       "</div>"
      ],
      "text/plain": [
       "          author_id                      created_at\n",
       "0        sprintcare  Tue Oct 31 22:10:47 +0000 2017\n",
       "1            115712  Tue Oct 31 22:11:45 +0000 2017\n",
       "2            115712  Tue Oct 31 22:08:27 +0000 2017\n",
       "3        sprintcare  Tue Oct 31 21:54:49 +0000 2017\n",
       "4            115712  Tue Oct 31 21:49:35 +0000 2017\n",
       "...             ...                             ...\n",
       "2811769  sprintcare  Wed Nov 22 08:43:51 +0000 2017\n",
       "2811770      823869  Wed Nov 22 08:35:16 +0000 2017\n",
       "2811771      121673  Thu Nov 23 04:13:07 +0000 2017\n",
       "2811772      AldiUK  Wed Nov 22 08:31:24 +0000 2017\n",
       "2811773      823870  Tue Nov 21 22:01:04 +0000 2017\n",
       "\n",
       "[2811774 rows x 2 columns]"
      ]
     },
     "execution_count": 167,
     "metadata": {},
     "output_type": "execute_result"
    }
   ],
   "source": [
    "# New dataframe to analyze author_id and dates\n",
    "ac = pd.DataFrame({'author_id': df['author_id'], \n",
    "                  'created_at':df['created_at']})\n"
   ]
  },
  {
   "cell_type": "code",
   "execution_count": 512,
   "id": "9942b9b9",
   "metadata": {},
   "outputs": [
    {
     "data": {
      "text/html": [
       "<div>\n",
       "<style scoped>\n",
       "    .dataframe tbody tr th:only-of-type {\n",
       "        vertical-align: middle;\n",
       "    }\n",
       "\n",
       "    .dataframe tbody tr th {\n",
       "        vertical-align: top;\n",
       "    }\n",
       "\n",
       "    .dataframe thead th {\n",
       "        text-align: right;\n",
       "    }\n",
       "</style>\n",
       "<table border=\"1\" class=\"dataframe\">\n",
       "  <thead>\n",
       "    <tr style=\"text-align: right;\">\n",
       "      <th></th>\n",
       "      <th>Company</th>\n",
       "      <th># of Entries</th>\n",
       "    </tr>\n",
       "  </thead>\n",
       "  <tbody>\n",
       "    <tr>\n",
       "      <th>0</th>\n",
       "      <td>AmazonHelp</td>\n",
       "      <td>169840</td>\n",
       "    </tr>\n",
       "    <tr>\n",
       "      <th>1</th>\n",
       "      <td>AppleSupport</td>\n",
       "      <td>106860</td>\n",
       "    </tr>\n",
       "    <tr>\n",
       "      <th>2</th>\n",
       "      <td>Uber_Support</td>\n",
       "      <td>56270</td>\n",
       "    </tr>\n",
       "    <tr>\n",
       "      <th>3</th>\n",
       "      <td>SpotifyCares</td>\n",
       "      <td>43265</td>\n",
       "    </tr>\n",
       "    <tr>\n",
       "      <th>4</th>\n",
       "      <td>Delta</td>\n",
       "      <td>42253</td>\n",
       "    </tr>\n",
       "  </tbody>\n",
       "</table>\n",
       "</div>"
      ],
      "text/plain": [
       "        Company  # of Entries\n",
       "0    AmazonHelp        169840\n",
       "1  AppleSupport        106860\n",
       "2  Uber_Support         56270\n",
       "3  SpotifyCares         43265\n",
       "4         Delta         42253"
      ]
     },
     "execution_count": 512,
     "metadata": {},
     "output_type": "execute_result"
    }
   ],
   "source": [
    "Amzn = ac['author_id'].str.contains(pat='AmazonHelp').value_counts(sort=True)[True]\n",
    "Appl = ac['author_id'].str.contains(pat='AppleSupport').value_counts(sort=True)[True]\n",
    "Uber = ac['author_id'].str.contains(pat='Uber_Support').value_counts(sort=True)[True]\n",
    "Spotify = ac['author_id'].str.contains(pat='SpotifyCares').value_counts(sort=True)[True]\n",
    "Delta = ac['author_id'].str.contains(pat='Delta').value_counts(sort=True)[True]\n",
    "\n",
    "top_users = pd.DataFrame([('AmazonHelp', Amzn),(\"AppleSupport\", Appl),\n",
    "('Uber_Support', Uber),('SpotifyCares', Spotify),('Delta', Delta)],\n",
    "columns=('Company', '# of Entries'))\n",
    "top_users"
   ]
  },
  {
   "cell_type": "markdown",
   "id": "f6d0072d",
   "metadata": {},
   "source": [
    "# Top 5 Users"
   ]
  },
  {
   "cell_type": "code",
   "execution_count": 651,
   "id": "66fbba2c",
   "metadata": {},
   "outputs": [
    {
     "data": {
      "text/plain": [
       "<AxesSubplot:title={'center':'Top Users by Number of Tweets'}, xlabel='Company', ylabel='# of Tweets'>"
      ]
     },
     "execution_count": 651,
     "metadata": {},
     "output_type": "execute_result"
    },
    {
     "data": {
      "image/png": "[encoded data removed]",
      "text/plain": [
       "<Figure size 432x288 with 1 Axes>"
      ]
     },
     "metadata": {
      "needs_background": "light"
     },
     "output_type": "display_data"
    }
   ],
   "source": [
    "top_5_users = pd.DataFrame([('AmazonHelp', Amzn),(\"AppleSupport\", Appl),\n",
    "('Uber_Support', Uber),('SpotifyCares', Spotify),('Delta', Delta)],\n",
    "columns=('Company', '# of Tweets'))\n",
    "top_5_users.plot.bar(title='Top Users by Number of Tweets',x='Company', ylabel='# of Tweets', color=(0.18823529411764706, 0.63529411764705879, 0.85490196078431369))"
   ]
  },
  {
   "cell_type": "markdown",
   "id": "6d7a9281",
   "metadata": {},
   "source": [
    "# Analysis of Monthly Traffic"
   ]
  },
  {
   "cell_type": "code",
   "execution_count": 152,
   "id": "e053d5e1",
   "metadata": {
    "scrolled": true
   },
   "outputs": [],
   "source": [
    "# Sum up twitter count for each month\n",
    "Jan = ac['created_at'].str.contains(r'Jan').sum()\n",
    "Feb = ac['created_at'].str.contains(r'Feb').sum()\n",
    "Mar = ac['created_at'].str.contains(r'Mar').sum()\n",
    "Apr = ac['created_at'].str.contains(r'Apr').sum()\n",
    "May = ac['created_at'].str.contains(r'May').sum()\n",
    "Jun = ac['created_at'].str.contains(r'Jun').sum()\n",
    "Jul = ac['created_at'].str.contains(r'Jul').sum()\n",
    "Aug = ac['created_at'].str.contains(r'Aug').sum()\n",
    "Sep = ac['created_at'].str.contains(r'Sep').sum()\n",
    "Oct = ac['created_at'].str.contains(r\"Oct\").sum()\n",
    "Nov = ac['created_at'].str.contains(r'Nov').sum()\n",
    "Dec = ac['created_at'].str.contains(r'Dec').sum()"
   ]
  },
  {
   "cell_type": "markdown",
   "id": "383c4e12",
   "metadata": {},
   "source": [
    "## Twitter Count from January to September"
   ]
  },
  {
   "cell_type": "code",
   "execution_count": 473,
   "id": "734dcbf9",
   "metadata": {},
   "outputs": [
    {
     "data": {
      "text/plain": [
       "<AxesSubplot:title={'center':'Monthly Traffic: January - Septempber'}, xlabel='Month', ylabel='# of Tweets'>"
      ]
     },
     "execution_count": 473,
     "metadata": {},
     "output_type": "execute_result"
    },
    {
     "data": {
      "image/png": "[encoded data removed]",
      "text/plain": [
       "<Figure size 432x288 with 1 Axes>"
      ]
     },
     "metadata": {
      "needs_background": "light"
     },
     "output_type": "display_data"
    }
   ],
   "source": [
    "month_freq_jan_sep = pd.DataFrame([('Jan', Jan),('Feb', Feb),\n",
    "('Mar', Mar),('Apr', Apr),('May', May),('Jun', Jun),('Jul', Jul),\n",
    "('Aug', Aug),('Sep', Sep),],\n",
    "columns=('Month', '# of Tweets'))\n",
    "px.bar(month_freq_jan_sep,x='Month',y='# of Tweets')                                                                                                                                                                                    \n",
    "month_freq_jan_sep.plot.bar(title='Monthly Traffic: January - Septempber',x='Month', ylabel='# of Tweets', color=(0.59607843137254901, 0.55686274509803924, 0.83529411764705885))"
   ]
  },
  {
   "cell_type": "markdown",
   "id": "1a004c2d",
   "metadata": {},
   "source": [
    "## Twitter Count From October to December"
   ]
  },
  {
   "cell_type": "code",
   "execution_count": 480,
   "id": "18180fa3",
   "metadata": {},
   "outputs": [
    {
     "data": {
      "text/plain": [
       "<AxesSubplot:title={'center':'Monthly Traffic: October - December'}, xlabel='Month', ylabel='# of Tweets in Millions'>"
      ]
     },
     "execution_count": 480,
     "metadata": {},
     "output_type": "execute_result"
    },
    {
     "data": {
      "image/png": "[encoded data removed]",
      "text/plain": [
       "<Figure size 432x288 with 1 Axes>"
      ]
     },
     "metadata": {
      "needs_background": "light"
     },
     "output_type": "display_data"
    }
   ],
   "source": [
    "month_freq_oct_dec = pd.DataFrame([('Oct', Oct),('Nov', Nov),('Dec', Dec)],\n",
    "columns=('Month', '# of Tweets'))\n",
    "month_freq_oct_dec.plot.bar(title='Monthly Traffic: October - December',x='Month', ylabel='# of Tweets in Millions', color=(0.59607843137254901, 0.55686274509803924, 0.83529411764705885))"
   ]
  },
  {
   "cell_type": "code",
   "execution_count": 79,
   "id": "e06f22ff",
   "metadata": {},
   "outputs": [
    {
     "data": {
      "text/plain": [
       "True     1537843\n",
       "False    1273931\n",
       "Name: inbound, dtype: int64"
      ]
     },
     "execution_count": 79,
     "metadata": {},
     "output_type": "execute_result"
    }
   ],
   "source": [
    "df['inbound'].value_counts()"
   ]
  },
  {
   "cell_type": "markdown",
   "id": "a5bc3c37",
   "metadata": {},
   "source": [
    "# Analysis of Weekly Traffic"
   ]
  },
  {
   "cell_type": "markdown",
   "id": "2bbfe835",
   "metadata": {},
   "source": [
    "## Weekly Traffic: All Users"
   ]
  },
  {
   "cell_type": "code",
   "execution_count": 385,
   "id": "a5e66c6c",
   "metadata": {},
   "outputs": [
    {
     "data": {
      "text/html": [
       "<div>\n",
       "<style scoped>\n",
       "    .dataframe tbody tr th:only-of-type {\n",
       "        vertical-align: middle;\n",
       "    }\n",
       "\n",
       "    .dataframe tbody tr th {\n",
       "        vertical-align: top;\n",
       "    }\n",
       "\n",
       "    .dataframe thead th {\n",
       "        text-align: right;\n",
       "    }\n",
       "</style>\n",
       "<table border=\"1\" class=\"dataframe\">\n",
       "  <thead>\n",
       "    <tr style=\"text-align: right;\">\n",
       "      <th></th>\n",
       "      <th># of Tweets</th>\n",
       "    </tr>\n",
       "  </thead>\n",
       "  <tbody>\n",
       "    <tr>\n",
       "      <th>Fri</th>\n",
       "      <td>453028</td>\n",
       "    </tr>\n",
       "    <tr>\n",
       "      <th>Wed</th>\n",
       "      <td>445838</td>\n",
       "    </tr>\n",
       "    <tr>\n",
       "      <th>Thu</th>\n",
       "      <td>440361</td>\n",
       "    </tr>\n",
       "    <tr>\n",
       "      <th>Tue</th>\n",
       "      <td>423052</td>\n",
       "    </tr>\n",
       "    <tr>\n",
       "      <th>Mon</th>\n",
       "      <td>387847</td>\n",
       "    </tr>\n",
       "    <tr>\n",
       "      <th>Sat</th>\n",
       "      <td>332606</td>\n",
       "    </tr>\n",
       "    <tr>\n",
       "      <th>Sun</th>\n",
       "      <td>329042</td>\n",
       "    </tr>\n",
       "  </tbody>\n",
       "</table>\n",
       "</div>"
      ],
      "text/plain": [
       "     # of Tweets\n",
       "Fri       453028\n",
       "Wed       445838\n",
       "Thu       440361\n",
       "Tue       423052\n",
       "Mon       387847\n",
       "Sat       332606\n",
       "Sun       329042"
      ]
     },
     "execution_count": 385,
     "metadata": {},
     "output_type": "execute_result"
    }
   ],
   "source": [
    "# New dataframe with days & # of tweets by extracting first 3 letters\n",
    "ac['Day of the Wk'] = ac['created_at'].str[:3]\n",
    "general_inital_DOW = pd.DataFrame({'# of Tweets':ac['Day of the Wk'].value_counts()})\n",
    "general_inital_DOW"
   ]
  },
  {
   "cell_type": "code",
   "execution_count": 364,
   "id": "f7622ff2",
   "metadata": {},
   "outputs": [
    {
     "data": {
      "text/html": [
       "<div>\n",
       "<style scoped>\n",
       "    .dataframe tbody tr th:only-of-type {\n",
       "        vertical-align: middle;\n",
       "    }\n",
       "\n",
       "    .dataframe tbody tr th {\n",
       "        vertical-align: top;\n",
       "    }\n",
       "\n",
       "    .dataframe thead th {\n",
       "        text-align: right;\n",
       "    }\n",
       "</style>\n",
       "<table border=\"1\" class=\"dataframe\">\n",
       "  <thead>\n",
       "    <tr style=\"text-align: right;\">\n",
       "      <th></th>\n",
       "      <th># of Tweets</th>\n",
       "    </tr>\n",
       "  </thead>\n",
       "  <tbody>\n",
       "    <tr>\n",
       "      <th>Mon</th>\n",
       "      <td>387847</td>\n",
       "    </tr>\n",
       "    <tr>\n",
       "      <th>Tue</th>\n",
       "      <td>423052</td>\n",
       "    </tr>\n",
       "    <tr>\n",
       "      <th>Wed</th>\n",
       "      <td>445838</td>\n",
       "    </tr>\n",
       "    <tr>\n",
       "      <th>Thu</th>\n",
       "      <td>440361</td>\n",
       "    </tr>\n",
       "    <tr>\n",
       "      <th>Fri</th>\n",
       "      <td>453028</td>\n",
       "    </tr>\n",
       "    <tr>\n",
       "      <th>Sat</th>\n",
       "      <td>332606</td>\n",
       "    </tr>\n",
       "    <tr>\n",
       "      <th>Sun</th>\n",
       "      <td>329042</td>\n",
       "    </tr>\n",
       "  </tbody>\n",
       "</table>\n",
       "</div>"
      ],
      "text/plain": [
       "     # of Tweets\n",
       "Mon       387847\n",
       "Tue       423052\n",
       "Wed       445838\n",
       "Thu       440361\n",
       "Fri       453028\n",
       "Sat       332606\n",
       "Sun       329042"
      ]
     },
     "execution_count": 364,
     "metadata": {},
     "output_type": "execute_result"
    }
   ],
   "source": [
    "# Organize dataframe so wk starts on Monday\n",
    "general_inital_DOW = general_inital_DOW.reindex(['Mon','Tue','Wed','Thu','Fri','Sat','Sun'])\n",
    "general_inital_DOW"
   ]
  },
  {
   "cell_type": "code",
   "execution_count": 365,
   "id": "2c85de67",
   "metadata": {},
   "outputs": [
    {
     "data": {
      "text/html": [
       "<div>\n",
       "<style scoped>\n",
       "    .dataframe tbody tr th:only-of-type {\n",
       "        vertical-align: middle;\n",
       "    }\n",
       "\n",
       "    .dataframe tbody tr th {\n",
       "        vertical-align: top;\n",
       "    }\n",
       "\n",
       "    .dataframe thead th {\n",
       "        text-align: right;\n",
       "    }\n",
       "</style>\n",
       "<table border=\"1\" class=\"dataframe\">\n",
       "  <thead>\n",
       "    <tr style=\"text-align: right;\">\n",
       "      <th></th>\n",
       "      <th>Day</th>\n",
       "      <th># of Tweets</th>\n",
       "    </tr>\n",
       "  </thead>\n",
       "  <tbody>\n",
       "    <tr>\n",
       "      <th>0</th>\n",
       "      <td>Mon</td>\n",
       "      <td>387847</td>\n",
       "    </tr>\n",
       "    <tr>\n",
       "      <th>1</th>\n",
       "      <td>Tue</td>\n",
       "      <td>423052</td>\n",
       "    </tr>\n",
       "    <tr>\n",
       "      <th>2</th>\n",
       "      <td>Wed</td>\n",
       "      <td>445838</td>\n",
       "    </tr>\n",
       "    <tr>\n",
       "      <th>3</th>\n",
       "      <td>Thu</td>\n",
       "      <td>440361</td>\n",
       "    </tr>\n",
       "    <tr>\n",
       "      <th>4</th>\n",
       "      <td>Fri</td>\n",
       "      <td>453028</td>\n",
       "    </tr>\n",
       "    <tr>\n",
       "      <th>5</th>\n",
       "      <td>Sat</td>\n",
       "      <td>332606</td>\n",
       "    </tr>\n",
       "    <tr>\n",
       "      <th>6</th>\n",
       "      <td>Sun</td>\n",
       "      <td>329042</td>\n",
       "    </tr>\n",
       "  </tbody>\n",
       "</table>\n",
       "</div>"
      ],
      "text/plain": [
       "   Day  # of Tweets\n",
       "0  Mon       387847\n",
       "1  Tue       423052\n",
       "2  Wed       445838\n",
       "3  Thu       440361\n",
       "4  Fri       453028\n",
       "5  Sat       332606\n",
       "6  Sun       329042"
      ]
     },
     "execution_count": 365,
     "metadata": {},
     "output_type": "execute_result"
    }
   ],
   "source": [
    "# New dataframe where days are a variable and not an index \n",
    "general_final_DOW = general_inital_DOW.reset_index(level=0)\n",
    "general_final_DOW = general_final_DOW.rename(columns={'index':'Day'})\n",
    "general_final_DOW"
   ]
  },
  {
   "cell_type": "code",
   "execution_count": 391,
   "id": "fed8111d",
   "metadata": {},
   "outputs": [
    {
     "data": {
      "text/plain": [
       "<AxesSubplot:title={'center':'Weekly Traffic for All Users'}, xlabel='Day'>"
      ]
     },
     "execution_count": 391,
     "metadata": {},
     "output_type": "execute_result"
    },
    {
     "data": {
      "image/png": "[encoded data removed]",
      "text/plain": [
       "<Figure size 432x288 with 1 Axes>"
      ]
     },
     "metadata": {
      "needs_background": "light"
     },
     "output_type": "display_data"
    }
   ],
   "source": [
    "# Weekly traffic per day for all users\n",
    "general_final_DOW.plot.bar(title='Weekly Traffic for All Users', x='Day', y='# of Tweets')"
   ]
  },
  {
   "cell_type": "code",
   "execution_count": 539,
   "id": "e8cac331",
   "metadata": {},
   "outputs": [
    {
     "data": {
      "text/html": [
       "<div>\n",
       "<style scoped>\n",
       "    .dataframe tbody tr th:only-of-type {\n",
       "        vertical-align: middle;\n",
       "    }\n",
       "\n",
       "    .dataframe tbody tr th {\n",
       "        vertical-align: top;\n",
       "    }\n",
       "\n",
       "    .dataframe thead th {\n",
       "        text-align: right;\n",
       "    }\n",
       "</style>\n",
       "<table border=\"1\" class=\"dataframe\">\n",
       "  <thead>\n",
       "    <tr style=\"text-align: right;\">\n",
       "      <th></th>\n",
       "      <th>Day</th>\n",
       "      <th>All Users</th>\n",
       "    </tr>\n",
       "  </thead>\n",
       "  <tbody>\n",
       "    <tr>\n",
       "      <th>0</th>\n",
       "      <td>Mon</td>\n",
       "      <td>387847</td>\n",
       "    </tr>\n",
       "    <tr>\n",
       "      <th>1</th>\n",
       "      <td>Tue</td>\n",
       "      <td>423052</td>\n",
       "    </tr>\n",
       "    <tr>\n",
       "      <th>2</th>\n",
       "      <td>Wed</td>\n",
       "      <td>445838</td>\n",
       "    </tr>\n",
       "    <tr>\n",
       "      <th>3</th>\n",
       "      <td>Thu</td>\n",
       "      <td>440361</td>\n",
       "    </tr>\n",
       "    <tr>\n",
       "      <th>4</th>\n",
       "      <td>Fri</td>\n",
       "      <td>453028</td>\n",
       "    </tr>\n",
       "    <tr>\n",
       "      <th>5</th>\n",
       "      <td>Sat</td>\n",
       "      <td>332606</td>\n",
       "    </tr>\n",
       "    <tr>\n",
       "      <th>6</th>\n",
       "      <td>Sun</td>\n",
       "      <td>329042</td>\n",
       "    </tr>\n",
       "  </tbody>\n",
       "</table>\n",
       "</div>"
      ],
      "text/plain": [
       "   Day  All Users\n",
       "0  Mon     387847\n",
       "1  Tue     423052\n",
       "2  Wed     445838\n",
       "3  Thu     440361\n",
       "4  Fri     453028\n",
       "5  Sat     332606\n",
       "6  Sun     329042"
      ]
     },
     "execution_count": 539,
     "metadata": {},
     "output_type": "execute_result"
    }
   ],
   "source": [
    "# New dataframe that contains all users to be used to compare to others\n",
    "all_compare = pd.DataFrame({'All Users':ac['Day of the Wk'].value_counts()})\n",
    "all_compare = all_compare.reindex(['Mon','Tue','Wed','Thu','Fri','Sat','Sun'])\n",
    "all_compare_final = all_compare.reset_index(level=0)\n",
    "all_compare_final = all_compare_final.rename(columns={'index':'Day'})\n",
    "all_compare_final"
   ]
  },
  {
   "cell_type": "markdown",
   "id": "b107aaa0",
   "metadata": {},
   "source": [
    "## Weekly Traffic: Amazon_Support"
   ]
  },
  {
   "cell_type": "code",
   "execution_count": 353,
   "id": "4a6b588e",
   "metadata": {},
   "outputs": [
    {
     "data": {
      "text/html": [
       "<div>\n",
       "<style scoped>\n",
       "    .dataframe tbody tr th:only-of-type {\n",
       "        vertical-align: middle;\n",
       "    }\n",
       "\n",
       "    .dataframe tbody tr th {\n",
       "        vertical-align: top;\n",
       "    }\n",
       "\n",
       "    .dataframe thead th {\n",
       "        text-align: right;\n",
       "    }\n",
       "</style>\n",
       "<table border=\"1\" class=\"dataframe\">\n",
       "  <thead>\n",
       "    <tr style=\"text-align: right;\">\n",
       "      <th></th>\n",
       "      <th># of Tweets</th>\n",
       "    </tr>\n",
       "  </thead>\n",
       "  <tbody>\n",
       "    <tr>\n",
       "      <th>Mon</th>\n",
       "      <td>21935</td>\n",
       "    </tr>\n",
       "    <tr>\n",
       "      <th>Tue</th>\n",
       "      <td>25428</td>\n",
       "    </tr>\n",
       "    <tr>\n",
       "      <th>Wed</th>\n",
       "      <td>26858</td>\n",
       "    </tr>\n",
       "    <tr>\n",
       "      <th>Thu</th>\n",
       "      <td>26504</td>\n",
       "    </tr>\n",
       "    <tr>\n",
       "      <th>Fri</th>\n",
       "      <td>27612</td>\n",
       "    </tr>\n",
       "    <tr>\n",
       "      <th>Sat</th>\n",
       "      <td>21822</td>\n",
       "    </tr>\n",
       "    <tr>\n",
       "      <th>Sun</th>\n",
       "      <td>19681</td>\n",
       "    </tr>\n",
       "  </tbody>\n",
       "</table>\n",
       "</div>"
      ],
      "text/plain": [
       "     # of Tweets\n",
       "Mon        21935\n",
       "Tue        25428\n",
       "Wed        26858\n",
       "Thu        26504\n",
       "Fri        27612\n",
       "Sat        21822\n",
       "Sun        19681"
      ]
     },
     "execution_count": 353,
     "metadata": {},
     "output_type": "execute_result"
    }
   ],
   "source": [
    "# New dataframe for weekly traffic for Amazon\n",
    "amazon = ac[ac['author_id'].str.contains(pat='AmazonHelp')]\n",
    "amazon['Day of the Wk'] = amazon['created_at'].str[:3]\n",
    "amzn_initial_DOW = pd.DataFrame({'# of Tweets':amazon['Day of the Wk'].value_counts()})\n",
    "amzn_initial_DOW = amzn_initial_DOW.reindex(['Mon','Tue','Wed','Thu','Fri','Sat','Sun'])\n",
    "amzn_initial_DOW"
   ]
  },
  {
   "cell_type": "code",
   "execution_count": 354,
   "id": "fdd226a9",
   "metadata": {},
   "outputs": [
    {
     "data": {
      "text/html": [
       "<div>\n",
       "<style scoped>\n",
       "    .dataframe tbody tr th:only-of-type {\n",
       "        vertical-align: middle;\n",
       "    }\n",
       "\n",
       "    .dataframe tbody tr th {\n",
       "        vertical-align: top;\n",
       "    }\n",
       "\n",
       "    .dataframe thead th {\n",
       "        text-align: right;\n",
       "    }\n",
       "</style>\n",
       "<table border=\"1\" class=\"dataframe\">\n",
       "  <thead>\n",
       "    <tr style=\"text-align: right;\">\n",
       "      <th></th>\n",
       "      <th>Day</th>\n",
       "      <th># of Tweets</th>\n",
       "    </tr>\n",
       "  </thead>\n",
       "  <tbody>\n",
       "    <tr>\n",
       "      <th>0</th>\n",
       "      <td>Mon</td>\n",
       "      <td>21935</td>\n",
       "    </tr>\n",
       "    <tr>\n",
       "      <th>1</th>\n",
       "      <td>Tue</td>\n",
       "      <td>25428</td>\n",
       "    </tr>\n",
       "    <tr>\n",
       "      <th>2</th>\n",
       "      <td>Wed</td>\n",
       "      <td>26858</td>\n",
       "    </tr>\n",
       "    <tr>\n",
       "      <th>3</th>\n",
       "      <td>Thu</td>\n",
       "      <td>26504</td>\n",
       "    </tr>\n",
       "    <tr>\n",
       "      <th>4</th>\n",
       "      <td>Fri</td>\n",
       "      <td>27612</td>\n",
       "    </tr>\n",
       "    <tr>\n",
       "      <th>5</th>\n",
       "      <td>Sat</td>\n",
       "      <td>21822</td>\n",
       "    </tr>\n",
       "    <tr>\n",
       "      <th>6</th>\n",
       "      <td>Sun</td>\n",
       "      <td>19681</td>\n",
       "    </tr>\n",
       "  </tbody>\n",
       "</table>\n",
       "</div>"
      ],
      "text/plain": [
       "   Day  # of Tweets\n",
       "0  Mon        21935\n",
       "1  Tue        25428\n",
       "2  Wed        26858\n",
       "3  Thu        26504\n",
       "4  Fri        27612\n",
       "5  Sat        21822\n",
       "6  Sun        19681"
      ]
     },
     "execution_count": 354,
     "metadata": {},
     "output_type": "execute_result"
    }
   ],
   "source": [
    "amzn_final_DOW = amzn_initial_DOW.reset_index(level=0)\n",
    "amzn_final_DOW = amzn_final_DOW.rename(columns={'index':'Day'})\n",
    "amzn_final_DOW"
   ]
  },
  {
   "cell_type": "code",
   "execution_count": 389,
   "id": "97f495a7",
   "metadata": {},
   "outputs": [
    {
     "data": {
      "text/plain": [
       "<AxesSubplot:title={'center':'@AmazonHelp Weekly Traffic'}, xlabel='Day', ylabel='# of Tweets'>"
      ]
     },
     "execution_count": 389,
     "metadata": {},
     "output_type": "execute_result"
    },
    {
     "data": {
      "image/png": "[encoded data removed]",
      "text/plain": [
       "<Figure size 432x288 with 1 Axes>"
      ]
     },
     "metadata": {
      "needs_background": "light"
     },
     "output_type": "display_data"
    }
   ],
   "source": [
    "# Amazon weekly traffic\n",
    "amzn_final_DOW.plot.bar(title='@AmazonHelp Weekly Traffic',x='Day', ylabel='# of Tweets', color=(0.27450980392156865, 0.47058823529411764, 0.12941176470588237))\n"
   ]
  },
  {
   "cell_type": "code",
   "execution_count": 555,
   "id": "d318dd81",
   "metadata": {},
   "outputs": [],
   "source": [
    "# New dataset for Amazon to be used to compare to other users\n",
    "amzn_compare = ac[ac['author_id'].str.contains(pat='AmazonHelp')]\n",
    "amzn_compare['Day of the Wk'] = amzn_compare['created_at'].str[:3]\n",
    "amzn_compare_inital = pd.DataFrame({'AmazonHelp':amazon['Day of the Wk'].value_counts()})\n",
    "amzn_compare_inital = amzn_compare_inital.reindex(['Mon','Tue','Wed','Thu','Fri','Sat','Sun'])\n",
    "amzn_compare_final = amzn_compare_inital.reset_index(level=0)\n",
    "amzn_compare_final = amzn_compare_final.rename(columns={'index':'Day'})"
   ]
  },
  {
   "cell_type": "markdown",
   "id": "8f257fe4",
   "metadata": {},
   "source": [
    "## Weekly Traffic: AppleSupport"
   ]
  },
  {
   "cell_type": "code",
   "execution_count": 316,
   "id": "373ebc13",
   "metadata": {},
   "outputs": [
    {
     "data": {
      "text/html": [
       "<div>\n",
       "<style scoped>\n",
       "    .dataframe tbody tr th:only-of-type {\n",
       "        vertical-align: middle;\n",
       "    }\n",
       "\n",
       "    .dataframe tbody tr th {\n",
       "        vertical-align: top;\n",
       "    }\n",
       "\n",
       "    .dataframe thead th {\n",
       "        text-align: right;\n",
       "    }\n",
       "</style>\n",
       "<table border=\"1\" class=\"dataframe\">\n",
       "  <thead>\n",
       "    <tr style=\"text-align: right;\">\n",
       "      <th></th>\n",
       "      <th># of Tweets</th>\n",
       "    </tr>\n",
       "  </thead>\n",
       "  <tbody>\n",
       "    <tr>\n",
       "      <th>Mon</th>\n",
       "      <td>15486</td>\n",
       "    </tr>\n",
       "    <tr>\n",
       "      <th>Tue</th>\n",
       "      <td>16155</td>\n",
       "    </tr>\n",
       "    <tr>\n",
       "      <th>Wed</th>\n",
       "      <td>16831</td>\n",
       "    </tr>\n",
       "    <tr>\n",
       "      <th>Thu</th>\n",
       "      <td>15178</td>\n",
       "    </tr>\n",
       "    <tr>\n",
       "      <th>Fri</th>\n",
       "      <td>14395</td>\n",
       "    </tr>\n",
       "    <tr>\n",
       "      <th>Sat</th>\n",
       "      <td>14068</td>\n",
       "    </tr>\n",
       "    <tr>\n",
       "      <th>Sun</th>\n",
       "      <td>14747</td>\n",
       "    </tr>\n",
       "  </tbody>\n",
       "</table>\n",
       "</div>"
      ],
      "text/plain": [
       "     # of Tweets\n",
       "Mon        15486\n",
       "Tue        16155\n",
       "Wed        16831\n",
       "Thu        15178\n",
       "Fri        14395\n",
       "Sat        14068\n",
       "Sun        14747"
      ]
     },
     "execution_count": 316,
     "metadata": {},
     "output_type": "execute_result"
    }
   ],
   "source": [
    "# New dataframe for weekly traffic for AppleSupport\n",
    "apple = ac[ac['author_id'].str.contains(pat='AppleSupport')]\n",
    "apple['Day of the Wk'] = apple['created_at'].str[:3]\n",
    "appl_initial_DOW = pd.DataFrame({'# of Tweets':apple['Day of the Wk'].value_counts()})\n",
    "appl_initial_DOW = appl_initial_DOW.reindex(['Mon','Tue','Wed','Thu','Fri','Sat','Sun'])\n",
    "appl_initial_DOW"
   ]
  },
  {
   "cell_type": "code",
   "execution_count": 317,
   "id": "6beb6ed3",
   "metadata": {},
   "outputs": [
    {
     "data": {
      "text/html": [
       "<div>\n",
       "<style scoped>\n",
       "    .dataframe tbody tr th:only-of-type {\n",
       "        vertical-align: middle;\n",
       "    }\n",
       "\n",
       "    .dataframe tbody tr th {\n",
       "        vertical-align: top;\n",
       "    }\n",
       "\n",
       "    .dataframe thead th {\n",
       "        text-align: right;\n",
       "    }\n",
       "</style>\n",
       "<table border=\"1\" class=\"dataframe\">\n",
       "  <thead>\n",
       "    <tr style=\"text-align: right;\">\n",
       "      <th></th>\n",
       "      <th>Day</th>\n",
       "      <th># of Tweets</th>\n",
       "    </tr>\n",
       "  </thead>\n",
       "  <tbody>\n",
       "    <tr>\n",
       "      <th>0</th>\n",
       "      <td>Mon</td>\n",
       "      <td>15486</td>\n",
       "    </tr>\n",
       "    <tr>\n",
       "      <th>1</th>\n",
       "      <td>Tue</td>\n",
       "      <td>16155</td>\n",
       "    </tr>\n",
       "    <tr>\n",
       "      <th>2</th>\n",
       "      <td>Wed</td>\n",
       "      <td>16831</td>\n",
       "    </tr>\n",
       "    <tr>\n",
       "      <th>3</th>\n",
       "      <td>Thu</td>\n",
       "      <td>15178</td>\n",
       "    </tr>\n",
       "    <tr>\n",
       "      <th>4</th>\n",
       "      <td>Fri</td>\n",
       "      <td>14395</td>\n",
       "    </tr>\n",
       "    <tr>\n",
       "      <th>5</th>\n",
       "      <td>Sat</td>\n",
       "      <td>14068</td>\n",
       "    </tr>\n",
       "    <tr>\n",
       "      <th>6</th>\n",
       "      <td>Sun</td>\n",
       "      <td>14747</td>\n",
       "    </tr>\n",
       "  </tbody>\n",
       "</table>\n",
       "</div>"
      ],
      "text/plain": [
       "   Day  # of Tweets\n",
       "0  Mon        15486\n",
       "1  Tue        16155\n",
       "2  Wed        16831\n",
       "3  Thu        15178\n",
       "4  Fri        14395\n",
       "5  Sat        14068\n",
       "6  Sun        14747"
      ]
     },
     "execution_count": 317,
     "metadata": {},
     "output_type": "execute_result"
    }
   ],
   "source": [
    "appl_final_DOW = appl_initial_DOW.reset_index(level=0)\n",
    "appl_final_DOW = appl_final_DOW.rename(columns={'index':'Day'})\n",
    "appl_final_DOW"
   ]
  },
  {
   "cell_type": "code",
   "execution_count": 335,
   "id": "ab7a4bda",
   "metadata": {},
   "outputs": [
    {
     "data": {
      "text/plain": [
       "<AxesSubplot:title={'center':'@AppleSupport Weekly Traffic'}, xlabel='Day', ylabel='# of Tweets'>"
      ]
     },
     "execution_count": 335,
     "metadata": {},
     "output_type": "execute_result"
    },
    {
     "data": {
      "image/png": "[encoded data removed]",
      "text/plain": [
       "<Figure size 432x288 with 1 Axes>"
      ]
     },
     "metadata": {
      "needs_background": "light"
     },
     "output_type": "display_data"
    }
   ],
   "source": [
    "# AppleSupport weekly traffic\n",
    "appl_final_DOW = appl_final_DOW.rename(columns={'index':'Day'})\n",
    "appl_final_DOW.plot.bar(title = '@AppleSupport Weekly Traffic',x='Day', ylabel='# of Tweets',color = (0.50196078431372548, 0.50196078431372548, 0.50196078431372548))"
   ]
  },
  {
   "cell_type": "code",
   "execution_count": 446,
   "id": "b574c154",
   "metadata": {},
   "outputs": [],
   "source": [
    "# New dataset for AppleSupport to be used to compare to other users\n",
    "appl_compare = ac[ac['author_id'].str.contains(pat='AppleSupport')]\n",
    "appl_compare['Day of the Wk'] = appl_compare['created_at'].str[:3]\n",
    "appl_compare_inital = pd.DataFrame({'AppleSupport':apple['Day of the Wk'].value_counts()})\n",
    "appl_compare_inital = appl_compare_inital.reindex(['Mon','Tue','Wed','Thu','Fri','Sat','Sun'])\n",
    "apple_compare_final = appl_compare_inital.reset_index(level=0)\n",
    "apple_compare_final = apple_compare_final.rename(columns={'index':'Day'})"
   ]
  },
  {
   "cell_type": "markdown",
   "id": "a1537809",
   "metadata": {},
   "source": [
    "## Weekly Traffic: Uber_Support"
   ]
  },
  {
   "cell_type": "code",
   "execution_count": 319,
   "id": "850d271f",
   "metadata": {},
   "outputs": [
    {
     "data": {
      "text/html": [
       "<div>\n",
       "<style scoped>\n",
       "    .dataframe tbody tr th:only-of-type {\n",
       "        vertical-align: middle;\n",
       "    }\n",
       "\n",
       "    .dataframe tbody tr th {\n",
       "        vertical-align: top;\n",
       "    }\n",
       "\n",
       "    .dataframe thead th {\n",
       "        text-align: right;\n",
       "    }\n",
       "</style>\n",
       "<table border=\"1\" class=\"dataframe\">\n",
       "  <thead>\n",
       "    <tr style=\"text-align: right;\">\n",
       "      <th></th>\n",
       "      <th># of Tweets</th>\n",
       "    </tr>\n",
       "  </thead>\n",
       "  <tbody>\n",
       "    <tr>\n",
       "      <th>Mon</th>\n",
       "      <td>7412</td>\n",
       "    </tr>\n",
       "    <tr>\n",
       "      <th>Tue</th>\n",
       "      <td>8039</td>\n",
       "    </tr>\n",
       "    <tr>\n",
       "      <th>Wed</th>\n",
       "      <td>8068</td>\n",
       "    </tr>\n",
       "    <tr>\n",
       "      <th>Thu</th>\n",
       "      <td>8718</td>\n",
       "    </tr>\n",
       "    <tr>\n",
       "      <th>Fri</th>\n",
       "      <td>8991</td>\n",
       "    </tr>\n",
       "    <tr>\n",
       "      <th>Sat</th>\n",
       "      <td>7350</td>\n",
       "    </tr>\n",
       "    <tr>\n",
       "      <th>Sun</th>\n",
       "      <td>7692</td>\n",
       "    </tr>\n",
       "  </tbody>\n",
       "</table>\n",
       "</div>"
      ],
      "text/plain": [
       "     # of Tweets\n",
       "Mon         7412\n",
       "Tue         8039\n",
       "Wed         8068\n",
       "Thu         8718\n",
       "Fri         8991\n",
       "Sat         7350\n",
       "Sun         7692"
      ]
     },
     "execution_count": 319,
     "metadata": {},
     "output_type": "execute_result"
    }
   ],
   "source": [
    "# New dataframe for weekly traffic for Uber_Support account\n",
    "uber = ac[ac['author_id'].str.contains(pat='Uber_Support')]\n",
    "uber['Day of the Wk'] = uber['created_at'].str[:3]\n",
    "uber_initial_DOW = pd.DataFrame({'# of Tweets':uber['Day of the Wk'].value_counts()})\n",
    "uber_initial_DOW = uber_initial_DOW.reindex(['Mon','Tue','Wed','Thu','Fri','Sat','Sun'])\n",
    "uber_initial_DOW"
   ]
  },
  {
   "cell_type": "code",
   "execution_count": 320,
   "id": "5b1b6e3a",
   "metadata": {},
   "outputs": [
    {
     "data": {
      "text/html": [
       "<div>\n",
       "<style scoped>\n",
       "    .dataframe tbody tr th:only-of-type {\n",
       "        vertical-align: middle;\n",
       "    }\n",
       "\n",
       "    .dataframe tbody tr th {\n",
       "        vertical-align: top;\n",
       "    }\n",
       "\n",
       "    .dataframe thead th {\n",
       "        text-align: right;\n",
       "    }\n",
       "</style>\n",
       "<table border=\"1\" class=\"dataframe\">\n",
       "  <thead>\n",
       "    <tr style=\"text-align: right;\">\n",
       "      <th></th>\n",
       "      <th>Day</th>\n",
       "      <th># of Tweets</th>\n",
       "    </tr>\n",
       "  </thead>\n",
       "  <tbody>\n",
       "    <tr>\n",
       "      <th>0</th>\n",
       "      <td>Mon</td>\n",
       "      <td>7412</td>\n",
       "    </tr>\n",
       "    <tr>\n",
       "      <th>1</th>\n",
       "      <td>Tue</td>\n",
       "      <td>8039</td>\n",
       "    </tr>\n",
       "    <tr>\n",
       "      <th>2</th>\n",
       "      <td>Wed</td>\n",
       "      <td>8068</td>\n",
       "    </tr>\n",
       "    <tr>\n",
       "      <th>3</th>\n",
       "      <td>Thu</td>\n",
       "      <td>8718</td>\n",
       "    </tr>\n",
       "    <tr>\n",
       "      <th>4</th>\n",
       "      <td>Fri</td>\n",
       "      <td>8991</td>\n",
       "    </tr>\n",
       "    <tr>\n",
       "      <th>5</th>\n",
       "      <td>Sat</td>\n",
       "      <td>7350</td>\n",
       "    </tr>\n",
       "    <tr>\n",
       "      <th>6</th>\n",
       "      <td>Sun</td>\n",
       "      <td>7692</td>\n",
       "    </tr>\n",
       "  </tbody>\n",
       "</table>\n",
       "</div>"
      ],
      "text/plain": [
       "   Day  # of Tweets\n",
       "0  Mon         7412\n",
       "1  Tue         8039\n",
       "2  Wed         8068\n",
       "3  Thu         8718\n",
       "4  Fri         8991\n",
       "5  Sat         7350\n",
       "6  Sun         7692"
      ]
     },
     "execution_count": 320,
     "metadata": {},
     "output_type": "execute_result"
    }
   ],
   "source": [
    "uber_final_DOW = uber_initial_DOW.reset_index(level=0)\n",
    "uber_final_DOW = uber_final_DOW.rename(columns={'index':'Day'})\n",
    "uber_final_DOW"
   ]
  },
  {
   "cell_type": "code",
   "execution_count": 336,
   "id": "9d023731",
   "metadata": {},
   "outputs": [
    {
     "data": {
      "text/plain": [
       "<AxesSubplot:title={'center':'@Uber_Support Weekly Traffic'}, xlabel='Day', ylabel='# of Tweets'>"
      ]
     },
     "execution_count": 336,
     "metadata": {},
     "output_type": "execute_result"
    },
    {
     "data": {
      "image/png": "[encoded data removed]",
      "text/plain": [
       "<Figure size 432x288 with 1 Axes>"
      ]
     },
     "metadata": {
      "needs_background": "light"
     },
     "output_type": "display_data"
    }
   ],
   "source": [
    "# Uber_Support weekly traffic\n",
    "uber_final_DOW = uber_final_DOW.rename(columns={'index':'Day'})\n",
    "uber_final_DOW.plot.bar(title='@Uber_Support Weekly Traffic',x='Day', ylabel='# of Tweets', color = (0.47843137254901963, 0.40784313725490196, 0.65098039215686276))"
   ]
  },
  {
   "cell_type": "code",
   "execution_count": 449,
   "id": "0e85c1c8",
   "metadata": {},
   "outputs": [
    {
     "data": {
      "text/html": [
       "<div>\n",
       "<style scoped>\n",
       "    .dataframe tbody tr th:only-of-type {\n",
       "        vertical-align: middle;\n",
       "    }\n",
       "\n",
       "    .dataframe tbody tr th {\n",
       "        vertical-align: top;\n",
       "    }\n",
       "\n",
       "    .dataframe thead th {\n",
       "        text-align: right;\n",
       "    }\n",
       "</style>\n",
       "<table border=\"1\" class=\"dataframe\">\n",
       "  <thead>\n",
       "    <tr style=\"text-align: right;\">\n",
       "      <th></th>\n",
       "      <th>Day</th>\n",
       "      <th>Uber_Support</th>\n",
       "    </tr>\n",
       "  </thead>\n",
       "  <tbody>\n",
       "    <tr>\n",
       "      <th>0</th>\n",
       "      <td>Mon</td>\n",
       "      <td>7412</td>\n",
       "    </tr>\n",
       "    <tr>\n",
       "      <th>1</th>\n",
       "      <td>Tue</td>\n",
       "      <td>8039</td>\n",
       "    </tr>\n",
       "    <tr>\n",
       "      <th>2</th>\n",
       "      <td>Wed</td>\n",
       "      <td>8068</td>\n",
       "    </tr>\n",
       "    <tr>\n",
       "      <th>3</th>\n",
       "      <td>Thu</td>\n",
       "      <td>8718</td>\n",
       "    </tr>\n",
       "    <tr>\n",
       "      <th>4</th>\n",
       "      <td>Fri</td>\n",
       "      <td>8991</td>\n",
       "    </tr>\n",
       "    <tr>\n",
       "      <th>5</th>\n",
       "      <td>Sat</td>\n",
       "      <td>7350</td>\n",
       "    </tr>\n",
       "    <tr>\n",
       "      <th>6</th>\n",
       "      <td>Sun</td>\n",
       "      <td>7692</td>\n",
       "    </tr>\n",
       "  </tbody>\n",
       "</table>\n",
       "</div>"
      ],
      "text/plain": [
       "   Day  Uber_Support\n",
       "0  Mon          7412\n",
       "1  Tue          8039\n",
       "2  Wed          8068\n",
       "3  Thu          8718\n",
       "4  Fri          8991\n",
       "5  Sat          7350\n",
       "6  Sun          7692"
      ]
     },
     "execution_count": 449,
     "metadata": {},
     "output_type": "execute_result"
    }
   ],
   "source": [
    "# New dataset for Uber_Support to be used to compare to other users\n",
    "uber_compare = ac[ac['author_id'].str.contains(pat='Uber_Support')]\n",
    "uber_compare['Day of the Wk'] = uber_compare['created_at'].str[:3]\n",
    "uber_compare_inital = pd.DataFrame({'Uber_Support':uber['Day of the Wk'].value_counts()})\n",
    "uber_compare_inital = uber_compare_inital.reindex(['Mon','Tue','Wed','Thu','Fri','Sat','Sun'])\n",
    "uber_compare_final = uber_compare_inital.reset_index(level=0)\n",
    "uber_compare_final = uber_compare_final.rename(columns={'index':'Day'})"
   ]
  },
  {
   "cell_type": "code",
   "execution_count": null,
   "id": "69fe778d",
   "metadata": {},
   "outputs": [],
   "source": []
  },
  {
   "cell_type": "markdown",
   "id": "d5e4a8cc",
   "metadata": {},
   "source": [
    "# Comparing Weekly Traffic of Top Users to Each Other"
   ]
  },
  {
   "cell_type": "markdown",
   "id": "eafd6fa9",
   "metadata": {},
   "source": [
    "## Weekly Analysis: AmazonHelp & AppleSupport"
   ]
  },
  {
   "cell_type": "code",
   "execution_count": 576,
   "id": "057883c9",
   "metadata": {},
   "outputs": [
    {
     "data": {
      "image/png": "[encoded data removed]",
      "text/plain": [
       "<Figure size 1080x360 with 1 Axes>"
      ]
     },
     "metadata": {
      "needs_background": "light"
     },
     "output_type": "display_data"
    }
   ],
   "source": [
    "fig = plt.figure(figsize = (15, 5))\n",
    "\n",
    "plt.plot(amzn_compare_final['Day'], amzn_compare_final['AmazonHelp'], color='green', marker='d',linewidth=2, markersize=15, label='AmazonHelp')\n",
    "plt.plot(apple_compare_final['Day'], apple_compare_final['AppleSupport'], color='tab:gray', marker='d',linewidth=2, markersize=15, label='AppleSupport')\n",
    "\n",
    "plt.title('Weekly Traffic: AmazonHelp & AppleSupport', fontsize=20)\n",
    "plt.xlabel('Weekdays', fontsize=14)\n",
    "plt.ylabel('Tweet Counts', fontsize=14)\n",
    "plt.grid(True)\n",
    "plt.legend()\n",
    "plt.show()"
   ]
  },
  {
   "cell_type": "markdown",
   "id": "7f24d15b",
   "metadata": {},
   "source": [
    "## Weekly Analysis: AmazonHelp & Uber_Support"
   ]
  },
  {
   "cell_type": "code",
   "execution_count": 577,
   "id": "6b91322f",
   "metadata": {},
   "outputs": [
    {
     "data": {
      "image/png": "[encoded data removed]",
      "text/plain": [
       "<Figure size 1080x360 with 1 Axes>"
      ]
     },
     "metadata": {
      "needs_background": "light"
     },
     "output_type": "display_data"
    }
   ],
   "source": [
    "fig = plt.figure(figsize = (15, 5))\n",
    "\n",
    "plt.plot(amzn_compare_final['Day'], amzn_compare_final['AmazonHelp'], color='green', marker='d',linewidth=2, markersize=15, label='AmazonHelp')\n",
    "plt.plot(uber_compare_final['Day'], uber_compare_final['Uber_Support'], color='tab:purple', marker='d',linewidth=2, markersize=15, label='Uber_Support')\n",
    "\n",
    "plt.title('Weekly Traffic: AmazonHelp & AppleSupport', fontsize=20)\n",
    "plt.xlabel('Weekdays', fontsize=14)\n",
    "plt.ylabel('Tweet Counts', fontsize=14)\n",
    "plt.grid(True)\n",
    "plt.legend()\n",
    "plt.show()"
   ]
  },
  {
   "cell_type": "markdown",
   "id": "717e4c04",
   "metadata": {},
   "source": [
    "## Weekly Analysis: AppleSupport & Uber_Support"
   ]
  },
  {
   "cell_type": "code",
   "execution_count": 578,
   "id": "5807f20d",
   "metadata": {},
   "outputs": [
    {
     "data": {
      "image/png": "[encoded data removed]",
      "text/plain": [
       "<Figure size 1080x360 with 1 Axes>"
      ]
     },
     "metadata": {
      "needs_background": "light"
     },
     "output_type": "display_data"
    }
   ],
   "source": [
    "fig = plt.figure(figsize = (15, 5))\n",
    "\n",
    "plt.plot(apple_compare_final['Day'], apple_compare_final['AppleSupport'], color='tab:gray', marker='d',linewidth=2, markersize=15, label='AppleSupport')\n",
    "plt.plot(uber_compare_final['Day'], uber_compare_final['Uber_Support'], color='tab:purple', marker='d',linewidth=2, markersize=15, label='Uber_Support')\n",
    "\n",
    "plt.title('Weekly Traffic: AmazonHelp & AppleSupport', fontsize=20)\n",
    "plt.xlabel('Weekdays', fontsize=14)\n",
    "plt.ylabel('Tweet Counts', fontsize=14)\n",
    "plt.grid(True)\n",
    "plt.legend()\n",
    "plt.show()"
   ]
  },
  {
   "cell_type": "markdown",
   "id": "3ad4ef8e",
   "metadata": {},
   "source": [
    "## Weekly Analysis: AmazonHelp & AppleSupport & Uber_Support"
   ]
  },
  {
   "cell_type": "code",
   "execution_count": 579,
   "id": "182759f3",
   "metadata": {},
   "outputs": [
    {
     "data": {
      "image/png": "[encoded data removed]",
      "text/plain": [
       "<Figure size 1080x360 with 1 Axes>"
      ]
     },
     "metadata": {
      "needs_background": "light"
     },
     "output_type": "display_data"
    }
   ],
   "source": [
    "fig = plt.figure(figsize = (15, 5))\n",
    "\n",
    "plt.plot(amzn_compare_final['Day'], amzn_compare_final['AmazonHelp'], color='green', marker='d',linewidth=2, markersize=15, label='AmazonHelp')\n",
    "plt.plot(apple_compare_final['Day'], apple_compare_final['AppleSupport'], color='tab:gray', marker='d',linewidth=2, markersize=15, label='AppleSupport')\n",
    "plt.plot(uber_compare_final['Day'], uber_compare_final['Uber_Support'], color='tab:purple', marker='d',linewidth=2, markersize=15, label='Uber_Support')\n",
    "\n",
    "plt.title('Weekly Traffic: AmazonHelp & AppleSupport', fontsize=20)\n",
    "plt.xlabel('Weekdays', fontsize=14)\n",
    "plt.ylabel('Tweet Counts', fontsize=14)\n",
    "plt.grid(True)\n",
    "plt.legend()\n",
    "plt.show()"
   ]
  },
  {
   "cell_type": "markdown",
   "id": "b93bb4b7",
   "metadata": {},
   "source": [
    "# Comparing Weekly Traffic of Top Users to All Users"
   ]
  },
  {
   "cell_type": "markdown",
   "id": "a2d8c1e3",
   "metadata": {},
   "source": [
    "## Weekly Traffic: AmazonHelp & All Users"
   ]
  },
  {
   "cell_type": "code",
   "execution_count": 670,
   "id": "69cfe83f",
   "metadata": {},
   "outputs": [
    {
     "data": {
      "text/plain": [
       "array([<AxesSubplot:xlabel='Day'>, <AxesSubplot:xlabel='Day'>],\n",
       "      dtype=object)"
      ]
     },
     "execution_count": 670,
     "metadata": {},
     "output_type": "execute_result"
    },
    {
     "data": {
      "image/png": "[encoded data removed]",
      "text/plain": [
       "<Figure size 432x288 with 2 Axes>"
      ]
     },
     "metadata": {
      "needs_background": "light"
     },
     "output_type": "display_data"
    }
   ],
   "source": [
    "amzn_all.plot(title='Weekly Traffic: AmazonHelp & All Users', x='Day',marker='.',linewidth=2, markersize=15,subplots=True)"
   ]
  },
  {
   "cell_type": "markdown",
   "id": "ec3213c1",
   "metadata": {},
   "source": [
    "## Weekly Traffic: AppleSupport & All Users"
   ]
  },
  {
   "cell_type": "code",
   "execution_count": 671,
   "id": "d991123f",
   "metadata": {},
   "outputs": [
    {
     "data": {
      "text/plain": [
       "array([<AxesSubplot:xlabel='Day'>, <AxesSubplot:xlabel='Day'>],\n",
       "      dtype=object)"
      ]
     },
     "execution_count": 671,
     "metadata": {},
     "output_type": "execute_result"
    },
    {
     "data": {
      "image/png": "[encoded data removed]",
      "text/plain": [
       "<Figure size 432x288 with 2 Axes>"
      ]
     },
     "metadata": {
      "needs_background": "light"
     },
     "output_type": "display_data"
    }
   ],
   "source": [
    "apple_all = pd.merge(apple_compare_final,all_compare_final)                                                                                                                                \n",
    "apple_all.plot(title='Weekly Traffic: AppleSupport & All Users', x='Day',marker='.',linewidth=2, markersize=15,subplots=True)"
   ]
  },
  {
   "cell_type": "markdown",
   "id": "365671e4",
   "metadata": {},
   "source": [
    "## Weekly Traffic: Uber_Support & All Users"
   ]
  },
  {
   "cell_type": "code",
   "execution_count": 672,
   "id": "48950751",
   "metadata": {},
   "outputs": [
    {
     "data": {
      "text/plain": [
       "array([<AxesSubplot:xlabel='Day'>, <AxesSubplot:xlabel='Day'>],\n",
       "      dtype=object)"
      ]
     },
     "execution_count": 672,
     "metadata": {},
     "output_type": "execute_result"
    },
    {
     "data": {
      "image/png": "[encoded data removed]",
      "text/plain": [
       "<Figure size 432x288 with 2 Axes>"
      ]
     },
     "metadata": {
      "needs_background": "light"
     },
     "output_type": "display_data"
    }
   ],
   "source": [
    "uber_all = pd.merge(uber_compare_final,all_compare_final)                                                                                                                                \n",
    "uber_all.plot(title='Weekly Traffic: AppleSupport & All Users', x='Day',marker='.',linewidth=2, markersize=15,subplots=True)"
   ]
  },
  {
   "cell_type": "code",
   "execution_count": null,
   "id": "68872cba",
   "metadata": {},
   "outputs": [],
   "source": []
  },
  {
   "cell_type": "code",
   "execution_count": null,
   "id": "0bf5f9a1",
   "metadata": {},
   "outputs": [],
   "source": []
  },
  {
   "cell_type": "code",
   "execution_count": null,
   "id": "33a75239",
   "metadata": {},
   "outputs": [],
   "source": []
  },
  {
   "cell_type": "code",
   "execution_count": null,
   "id": "f6476b3a",
   "metadata": {},
   "outputs": [],
   "source": []
  },
  {
   "cell_type": "code",
   "execution_count": 122,
   "id": "d0a814ad",
   "metadata": {},
   "outputs": [
    {
     "data": {
      "text/plain": [
       "706552    2008-05-08 20:13:59+00:00\n",
       "706551    2008-05-08 21:04:16+00:00\n",
       "1604529   2010-02-16 15:49:47+00:00\n",
       "2129896   2010-03-31 15:24:29+00:00\n",
       "2129894   2010-03-31 16:53:27+00:00\n",
       "                     ...           \n",
       "537559    2017-12-03 23:12:50+00:00\n",
       "537388    2017-12-03 23:13:00+00:00\n",
       "531793    2017-12-03 23:13:00+00:00\n",
       "533916    2017-12-03 23:13:02+00:00\n",
       "524147    2017-12-03 23:14:01+00:00\n",
       "Name: created_at, Length: 2811774, dtype: datetime64[ns, UTC]"
      ]
     },
     "execution_count": 122,
     "metadata": {},
     "output_type": "execute_result"
    }
   ],
   "source": [
    "# Organize by date\n",
    "df['created_at'] = pd.to_datetime(df['created_at'])\n",
    "df.sort_values(by='created_at', ascending = True,inplace=True)\n",
    "df['created_at']"
   ]
  },
  {
   "cell_type": "code",
   "execution_count": 174,
   "id": "36284c43",
   "metadata": {},
   "outputs": [
    {
     "data": {
      "text/plain": [
       "0    False\n",
       "1    False\n",
       "2    False\n",
       "3    False\n",
       "4    False\n",
       "Name: author_id, dtype: bool"
      ]
     },
     "execution_count": 174,
     "metadata": {},
     "output_type": "execute_result"
    }
   ],
   "source": [
    "# I am trying to isolate any datat that contains Amazon so do a focused analysis\n",
    "amazon_data = df['author_id'].str.contains(r'AmazonHelp')"
   ]
  },
  {
   "cell_type": "code",
   "execution_count": 121,
   "id": "65548722",
   "metadata": {},
   "outputs": [
    {
     "data": {
      "text/plain": [
       "706552    2008-05-08 20:13:59+00:00\n",
       "706551    2008-05-08 21:04:16+00:00\n",
       "1604529   2010-02-16 15:49:47+00:00\n",
       "2129896   2010-03-31 15:24:29+00:00\n",
       "2129894   2010-03-31 16:53:27+00:00\n",
       "                     ...           \n",
       "537559    2017-12-03 23:12:50+00:00\n",
       "537388    2017-12-03 23:13:00+00:00\n",
       "531793    2017-12-03 23:13:00+00:00\n",
       "533916    2017-12-03 23:13:02+00:00\n",
       "524147    2017-12-03 23:14:01+00:00\n",
       "Name: created_at, Length: 2811774, dtype: datetime64[ns, UTC]"
      ]
     },
     "execution_count": 121,
     "metadata": {},
     "output_type": "execute_result"
    }
   ],
   "source": [
    "# Sort by tweets by \n",
    "df['created_at'] = pd.to_datetime(dataset['created_at'])\n",
    "df.sort_values(by='created_at', ascending = True,inplace=True)\n",
    "df['created_at']"
   ]
  }
 ],
 "metadata": {
  "kernelspec": {
   "display_name": "Python 3 (ipykernel)",
   "language": "python",
   "name": "python3"
  },
  "language_info": {
   "codemirror_mode": {
    "name": "ipython",
    "version": 3
   },
   "file_extension": ".py",
   "mimetype": "text/x-python",
   "name": "python",
   "nbconvert_exporter": "python",
   "pygments_lexer": "ipython3",
   "version": "3.9.12"
  }
 },
 "nbformat": 4,
 "nbformat_minor": 5
}
